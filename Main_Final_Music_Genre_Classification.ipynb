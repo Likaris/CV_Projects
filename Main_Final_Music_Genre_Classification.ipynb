{
  "nbformat": 4,
  "nbformat_minor": 0,
  "metadata": {
    "colab": {
      "name": "Main Final Music Genre Classification.ipynb",
      "provenance": [],
      "collapsed_sections": []
    },
    "kernelspec": {
      "name": "python3",
      "display_name": "Python 3"
    },
    "language_info": {
      "name": "python"
    }
  },
  "cells": [
    {
      "cell_type": "code",
      "metadata": {
        "id": "aqIDjVhUOKRn"
      },
      "source": [
        "import json\n",
        "import os\n",
        "import math\n",
        "import librosa"
      ],
      "execution_count": null,
      "outputs": []
    },
    {
      "cell_type": "code",
      "metadata": {
        "id": "Y4BhxnWlOLku"
      },
      "source": [
        "DATASET_PATH = \"/content/drive/MyDrive/genres\"\n",
        "JSON_PATH = \"genres_data.json\"\n",
        "SAMPLE_RATE = 22050 #стандартное значение для обработки аудио\n",
        "TRACK_DURATION = 30 # длительность треков\n",
        "SAMPLES_PER_TRACK = SAMPLE_RATE * TRACK_DURATION #всего измерений для трека"
      ],
      "execution_count": null,
      "outputs": []
    },
    {
      "cell_type": "code",
      "metadata": {
        "id": "hi71O2OfONf-"
      },
      "source": [
        "def save_mfcc(dataset_path, json_path, num_mfcc=13, n_fft=2048, hop_length=512, num_segments=10):\n",
        "    \"\"\"Extracts MFCCs from music dataset and saves them into a json file along with genre labels.\n",
        "        \"\"\"\n",
        "\n",
        "    # Формат для структурированного хранения данных\n",
        "    data = {\n",
        "        \"mapping\": [],\n",
        "        \"labels\": [],\n",
        "        \"mfcc\": []\n",
        "    }\n",
        "\n",
        "    samples_per_segment = int(SAMPLES_PER_TRACK / num_segments) # количество измерений на один сегмент\n",
        "    expected_num_mfcc_vectors_per_segment = math.ceil(samples_per_segment / hop_length) #количество измерений для каждого вектора mfcc, они должны быть одинаковые, для точности \n",
        "\n",
        "    # проходим по всем жанрам внутри главной дериктории\n",
        "    for i, (dirpath, dirnames, filenames) in enumerate(os.walk(dataset_path)):\n",
        "\n",
        "        # проверка что мы не в корневой директории  \n",
        "        if dirpath is not dataset_path:\n",
        "\n",
        "            # сохраняем название жанра в файл\n",
        "            semantic_label = dirpath.split(\"/\")[-1]\n",
        "            data[\"mapping\"].append(semantic_label)\n",
        "            print(\"\\nProcessing: {}\".format(semantic_label))\n",
        "\n",
        "            # проходим по всем песням в папке жанра \n",
        "            for f in filenames:\n",
        "\n",
        "\t\t# загружаем аудио файл в json\n",
        "                file_path = os.path.join(dirpath, f)\n",
        "                signal, sample_rate = librosa.load(file_path, sr=SAMPLE_RATE)\n",
        "\n",
        "                # обрабатываем каждый сегмент определенного аудио файла\n",
        "                for s in range(num_segments):\n",
        "\n",
        "                    # расчитываем начало и конец каждого сегмента \n",
        "                    start = samples_per_segment * s\n",
        "                    finish = start + samples_per_segment\n",
        "\n",
        "                    # вытаскиваем mfcc\n",
        "                    mfcc = librosa.feature.mfcc(signal[start:finish], sample_rate, n_mfcc=num_mfcc, n_fft=n_fft, hop_length=hop_length)\n",
        "                    mfcc = mfcc.T\n",
        "\n",
        "                    # сохраняем только те mfcc, что имеют нужную размерность векторов (нужно для точности)\n",
        "                    if len(mfcc) == expected_num_mfcc_vectors_per_segment:\n",
        "                        data[\"mfcc\"].append(mfcc.tolist())\n",
        "                        data[\"labels\"].append(i-1)\n",
        "                        print(\"{}, segment:{}\".format(file_path, s+1))\n",
        "\n",
        "    # сохраняем mfcc в json файл\n",
        "    with open(json_path, \"w\") as fp:\n",
        "        json.dump(data, fp, indent=4)"
      ],
      "execution_count": null,
      "outputs": []
    },
    {
      "cell_type": "code",
      "metadata": {
        "id": "aypD07JoWFCj"
      },
      "source": [
        "save_mfcc(DATASET_PATH, JSON_PATH, num_segments=10)"
      ],
      "execution_count": null,
      "outputs": []
    },
    {
      "cell_type": "markdown",
      "metadata": {
        "id": "LZF2A9IULaKP"
      },
      "source": [
        "Сверточная нейронная сеть\n"
      ]
    },
    {
      "cell_type": "code",
      "metadata": {
        "id": "7uvrWopFPJQe"
      },
      "source": [
        "import json\n",
        "import numpy as np\n",
        "from sklearn.model_selection import train_test_split\n",
        "import tensorflow.keras as keras\n",
        "\n",
        "import matplotlib.pyplot as plt\n",
        "import random\n",
        "\n",
        "import librosa\n",
        "import math"
      ],
      "execution_count": null,
      "outputs": []
    },
    {
      "cell_type": "code",
      "metadata": {
        "id": "hihqmzz9PE1n"
      },
      "source": [
        "DATA_PATH = \"/content/drive/MyDrive/AI Project /genres_data.json\""
      ],
      "execution_count": null,
      "outputs": []
    },
    {
      "cell_type": "code",
      "metadata": {
        "id": "oDM6fZhmPHZf"
      },
      "source": [
        "def load_data(data_path):\n",
        "\n",
        "    with open(data_path, \"r\") as f:\n",
        "        data = json.load(f)\n",
        "\n",
        "    # конвертирую листы numpy в массивы\n",
        "    X = np.array(data[\"mfcc\"])\n",
        "    y = np.array(data[\"labels\"])\n",
        "\n",
        "    print(\"Data succesfully loaded!\")\n",
        "\n",
        "    return  X, y"
      ],
      "execution_count": null,
      "outputs": []
    },
    {
      "cell_type": "code",
      "metadata": {
        "id": "-GGMjUCUUp0e"
      },
      "source": [
        "def plot_history(history):\n",
        "    \"\"\"Plots accuracy/loss for training/validation set as a function of the epochs\n",
        "        :param history: Training history of model\n",
        "        :return:\n",
        "    \"\"\"\n",
        "\n",
        "    fig, axs = plt.subplots(2)\n",
        "\n",
        "    # для графика точности\n",
        "    axs[0].plot(history.history[\"accuracy\"], label=\"train accuracy\")\n",
        "    axs[0].plot(history.history[\"val_accuracy\"], label=\"test accuracy\")\n",
        "    axs[0].set_ylabel(\"Accuracy\")\n",
        "    axs[0].legend(loc=\"lower right\")\n",
        "    axs[0].set_title(\"Accuracy eval\")\n",
        "\n",
        "    # для графика потерь\n",
        "    axs[1].plot(history.history[\"loss\"], label=\"train error\")\n",
        "    axs[1].plot(history.history[\"val_loss\"], label=\"test error\")\n",
        "    axs[1].set_ylabel(\"Error\")\n",
        "    axs[1].set_xlabel(\"Epoch\")\n",
        "    axs[1].legend(loc=\"upper right\")\n",
        "    axs[1].set_title(\"Error eval\")\n",
        "\n",
        "    plt.show()\n"
      ],
      "execution_count": null,
      "outputs": []
    },
    {
      "cell_type": "code",
      "metadata": {
        "colab": {
          "base_uri": "https://localhost:8080/"
        },
        "id": "-eIt3Zd7PLnn",
        "outputId": "6e001d5d-e01f-4b44-b270-d446923d8aba"
      },
      "source": [
        "X, y = load_data(DATA_PATH)"
      ],
      "execution_count": null,
      "outputs": [
        {
          "output_type": "stream",
          "name": "stdout",
          "text": [
            "Data succesfully loaded!\n"
          ]
        }
      ]
    },
    {
      "cell_type": "code",
      "metadata": {
        "id": "4ZwWb7VZ7F4U"
      },
      "source": [
        "# делим данные на train, validation и test \n",
        "X_train, X_test, y_train, y_test = train_test_split(X, y, test_size=0.25)\n",
        "X_train, X_validation, y_train, y_validation = train_test_split(X_train, y_train, test_size=0.2)\n",
        "\n",
        "# добавляем оси для входящих данных \n",
        "X_train = X_train[..., np.newaxis] \n",
        "X_validation = X_validation[..., np.newaxis]\n",
        "X_test = X_test[..., np.newaxis]"
      ],
      "execution_count": null,
      "outputs": []
    },
    {
      "cell_type": "code",
      "metadata": {
        "colab": {
          "base_uri": "https://localhost:8080/"
        },
        "id": "kr1H17jl7IoM",
        "outputId": "8bd43966-e5e6-4d37-c566-20794295e263"
      },
      "source": [
        "X_train.shape"
      ],
      "execution_count": null,
      "outputs": [
        {
          "output_type": "execute_result",
          "data": {
            "text/plain": [
              "(5997, 130, 13, 1)"
            ]
          },
          "metadata": {},
          "execution_count": 65
        }
      ]
    },
    {
      "cell_type": "code",
      "metadata": {
        "id": "4LRj4J0R7I7t"
      },
      "source": [
        "input_shape = (X_train.shape[1], X_train.shape[2], 1)"
      ],
      "execution_count": null,
      "outputs": []
    },
    {
      "cell_type": "code",
      "metadata": {
        "id": "yzQhYzO_7MnM"
      },
      "source": [
        "# build the CNN\n",
        "model_cnn = keras.Sequential()\n",
        "\n",
        "# 1st conv layer\n",
        "model_cnn.add(keras.layers.Conv2D(32, (3, 3), activation='relu', input_shape=input_shape))\n",
        "model_cnn.add(keras.layers.MaxPooling2D((3, 3), strides=(2, 2), padding='same')) #добавляем нолики\n",
        "model_cnn.add(keras.layers.BatchNormalization()) #магия чтоб работала быстро \n",
        "\n",
        "# 2nd conv layer\n",
        "model_cnn.add(keras.layers.Conv2D(32, (3, 3), activation='relu'))\n",
        "model_cnn.add(keras.layers.MaxPooling2D((3, 3), strides=(2, 2), padding='same'))\n",
        "model_cnn.add(keras.layers.BatchNormalization())\n",
        "\n",
        "# 3rd conv layer\n",
        "model_cnn.add(keras.layers.Conv2D(32, (2, 2), activation='relu'))\n",
        "model_cnn.add(keras.layers.MaxPooling2D((2, 2), strides=(2, 2), padding='same'))\n",
        "model_cnn.add(keras.layers.BatchNormalization())\n",
        "\n",
        "# flatten output and feed it into dense layer\n",
        "model_cnn.add(keras.layers.Flatten())\n",
        "model_cnn.add(keras.layers.Dense(64, activation='relu'))\n",
        "model_cnn.add(keras.layers.Dropout(0.3)) # игнорируем некоторые нейроны чтоб не получить overfitting \n",
        "\n",
        "# output layer\n",
        "model_cnn.add(keras.layers.Dense(10, activation='softmax')) # 0-`, где сумма всех результатов была 1"
      ],
      "execution_count": null,
      "outputs": []
    },
    {
      "cell_type": "code",
      "metadata": {
        "id": "Q0zPNQxI7M-c"
      },
      "source": [
        "# compile model\n",
        "optimiser = keras.optimizers.Adam(learning_rate=0.0001)\n",
        "model_cnn.compile(optimizer=optimiser,\n",
        "              loss='sparse_categorical_crossentropy',  # categorical_crossentropy есть еще такая\n",
        "              metrics=['accuracy'])"
      ],
      "execution_count": null,
      "outputs": []
    },
    {
      "cell_type": "code",
      "metadata": {
        "colab": {
          "base_uri": "https://localhost:8080/"
        },
        "id": "VndspcFN7OMk",
        "outputId": "d1545487-40a3-470c-be79-3f45d15f525b"
      },
      "source": [
        "model_cnn.summary()"
      ],
      "execution_count": null,
      "outputs": [
        {
          "output_type": "stream",
          "name": "stdout",
          "text": [
            "Model: \"sequential_1\"\n",
            "_________________________________________________________________\n",
            "Layer (type)                 Output Shape              Param #   \n",
            "=================================================================\n",
            "conv2d_3 (Conv2D)            (None, 128, 11, 32)       320       \n",
            "_________________________________________________________________\n",
            "max_pooling2d_3 (MaxPooling2 (None, 64, 6, 32)         0         \n",
            "_________________________________________________________________\n",
            "batch_normalization_3 (Batch (None, 64, 6, 32)         128       \n",
            "_________________________________________________________________\n",
            "conv2d_4 (Conv2D)            (None, 62, 4, 32)         9248      \n",
            "_________________________________________________________________\n",
            "max_pooling2d_4 (MaxPooling2 (None, 31, 2, 32)         0         \n",
            "_________________________________________________________________\n",
            "batch_normalization_4 (Batch (None, 31, 2, 32)         128       \n",
            "_________________________________________________________________\n",
            "conv2d_5 (Conv2D)            (None, 30, 1, 32)         4128      \n",
            "_________________________________________________________________\n",
            "max_pooling2d_5 (MaxPooling2 (None, 15, 1, 32)         0         \n",
            "_________________________________________________________________\n",
            "batch_normalization_5 (Batch (None, 15, 1, 32)         128       \n",
            "_________________________________________________________________\n",
            "flatten_1 (Flatten)          (None, 480)               0         \n",
            "_________________________________________________________________\n",
            "dense_2 (Dense)              (None, 64)                30784     \n",
            "_________________________________________________________________\n",
            "dropout_1 (Dropout)          (None, 64)                0         \n",
            "_________________________________________________________________\n",
            "dense_3 (Dense)              (None, 10)                650       \n",
            "=================================================================\n",
            "Total params: 45,514\n",
            "Trainable params: 45,322\n",
            "Non-trainable params: 192\n",
            "_________________________________________________________________\n"
          ]
        }
      ]
    },
    {
      "cell_type": "code",
      "metadata": {
        "colab": {
          "base_uri": "https://localhost:8080/"
        },
        "id": "et1_XQzE7VY0",
        "outputId": "ab0a8c31-dcb7-4e41-e3e8-f993165d917c"
      },
      "source": [
        "# train model\n",
        "history = model_cnn.fit(X_train, y_train, validation_data=(X_validation, y_validation), batch_size=32, epochs=50)"
      ],
      "execution_count": null,
      "outputs": [
        {
          "output_type": "stream",
          "name": "stdout",
          "text": [
            "Epoch 1/50\n",
            "188/188 [==============================] - 13s 65ms/step - loss: 2.3688 - accuracy: 0.2263 - val_loss: 1.7629 - val_accuracy: 0.3907\n",
            "Epoch 2/50\n",
            "188/188 [==============================] - 12s 64ms/step - loss: 1.8507 - accuracy: 0.3513 - val_loss: 1.5028 - val_accuracy: 0.4647\n",
            "Epoch 3/50\n",
            "188/188 [==============================] - 12s 64ms/step - loss: 1.6677 - accuracy: 0.4042 - val_loss: 1.4003 - val_accuracy: 0.4980\n",
            "Epoch 4/50\n",
            "188/188 [==============================] - 12s 65ms/step - loss: 1.5221 - accuracy: 0.4562 - val_loss: 1.3107 - val_accuracy: 0.5320\n",
            "Epoch 5/50\n",
            "188/188 [==============================] - 12s 64ms/step - loss: 1.4499 - accuracy: 0.4764 - val_loss: 1.2515 - val_accuracy: 0.5473\n",
            "Epoch 6/50\n",
            "188/188 [==============================] - 12s 64ms/step - loss: 1.3939 - accuracy: 0.5014 - val_loss: 1.2039 - val_accuracy: 0.5613\n",
            "Epoch 7/50\n",
            "188/188 [==============================] - 12s 64ms/step - loss: 1.3200 - accuracy: 0.5218 - val_loss: 1.1636 - val_accuracy: 0.5820\n",
            "Epoch 8/50\n",
            "188/188 [==============================] - 12s 64ms/step - loss: 1.2700 - accuracy: 0.5369 - val_loss: 1.1281 - val_accuracy: 0.5933\n",
            "Epoch 9/50\n",
            "188/188 [==============================] - 12s 65ms/step - loss: 1.2343 - accuracy: 0.5558 - val_loss: 1.1147 - val_accuracy: 0.6040\n",
            "Epoch 10/50\n",
            "188/188 [==============================] - 12s 64ms/step - loss: 1.1929 - accuracy: 0.5711 - val_loss: 1.0638 - val_accuracy: 0.6113\n",
            "Epoch 11/50\n",
            "188/188 [==============================] - 12s 65ms/step - loss: 1.1412 - accuracy: 0.5910 - val_loss: 1.0523 - val_accuracy: 0.6200\n",
            "Epoch 12/50\n",
            "188/188 [==============================] - 12s 65ms/step - loss: 1.1347 - accuracy: 0.6018 - val_loss: 1.0312 - val_accuracy: 0.6373\n",
            "Epoch 13/50\n",
            "188/188 [==============================] - 12s 64ms/step - loss: 1.0858 - accuracy: 0.6125 - val_loss: 1.0360 - val_accuracy: 0.6327\n",
            "Epoch 14/50\n",
            "188/188 [==============================] - 12s 64ms/step - loss: 1.0479 - accuracy: 0.6315 - val_loss: 0.9786 - val_accuracy: 0.6580\n",
            "Epoch 15/50\n",
            "188/188 [==============================] - 12s 65ms/step - loss: 1.0214 - accuracy: 0.6337 - val_loss: 0.9636 - val_accuracy: 0.6633\n",
            "Epoch 16/50\n",
            "188/188 [==============================] - 12s 65ms/step - loss: 1.0051 - accuracy: 0.6350 - val_loss: 0.9580 - val_accuracy: 0.6707\n",
            "Epoch 17/50\n",
            "188/188 [==============================] - 12s 65ms/step - loss: 0.9723 - accuracy: 0.6588 - val_loss: 0.9452 - val_accuracy: 0.6787\n",
            "Epoch 18/50\n",
            "188/188 [==============================] - 12s 65ms/step - loss: 0.9473 - accuracy: 0.6650 - val_loss: 0.9513 - val_accuracy: 0.6653\n",
            "Epoch 19/50\n",
            "188/188 [==============================] - 12s 65ms/step - loss: 0.9114 - accuracy: 0.6722 - val_loss: 0.9098 - val_accuracy: 0.6900\n",
            "Epoch 20/50\n",
            "188/188 [==============================] - 12s 65ms/step - loss: 0.8735 - accuracy: 0.6925 - val_loss: 0.9027 - val_accuracy: 0.6980\n",
            "Epoch 21/50\n",
            "188/188 [==============================] - 12s 65ms/step - loss: 0.8919 - accuracy: 0.6820 - val_loss: 0.9041 - val_accuracy: 0.6927\n",
            "Epoch 22/50\n",
            "188/188 [==============================] - 12s 65ms/step - loss: 0.8422 - accuracy: 0.7009 - val_loss: 0.8796 - val_accuracy: 0.6920\n",
            "Epoch 23/50\n",
            "188/188 [==============================] - 12s 65ms/step - loss: 0.8364 - accuracy: 0.7072 - val_loss: 0.8842 - val_accuracy: 0.6967\n",
            "Epoch 24/50\n",
            "188/188 [==============================] - 12s 65ms/step - loss: 0.8153 - accuracy: 0.7115 - val_loss: 0.8812 - val_accuracy: 0.7007\n",
            "Epoch 25/50\n",
            "188/188 [==============================] - 12s 65ms/step - loss: 0.7930 - accuracy: 0.7177 - val_loss: 0.8639 - val_accuracy: 0.7153\n",
            "Epoch 26/50\n",
            "188/188 [==============================] - 12s 65ms/step - loss: 0.7673 - accuracy: 0.7337 - val_loss: 0.8677 - val_accuracy: 0.7107\n",
            "Epoch 27/50\n",
            "188/188 [==============================] - 12s 64ms/step - loss: 0.7532 - accuracy: 0.7355 - val_loss: 0.8459 - val_accuracy: 0.7060\n",
            "Epoch 28/50\n",
            "188/188 [==============================] - 12s 64ms/step - loss: 0.7410 - accuracy: 0.7409 - val_loss: 0.8392 - val_accuracy: 0.7193\n",
            "Epoch 29/50\n",
            "188/188 [==============================] - 12s 65ms/step - loss: 0.7378 - accuracy: 0.7405 - val_loss: 0.8379 - val_accuracy: 0.7153\n",
            "Epoch 30/50\n",
            "188/188 [==============================] - 12s 65ms/step - loss: 0.7216 - accuracy: 0.7509 - val_loss: 0.8353 - val_accuracy: 0.7167\n",
            "Epoch 31/50\n",
            "188/188 [==============================] - 12s 65ms/step - loss: 0.6965 - accuracy: 0.7550 - val_loss: 0.8209 - val_accuracy: 0.7193\n",
            "Epoch 32/50\n",
            "188/188 [==============================] - 12s 65ms/step - loss: 0.6873 - accuracy: 0.7605 - val_loss: 0.8466 - val_accuracy: 0.7113\n",
            "Epoch 33/50\n",
            "188/188 [==============================] - 12s 65ms/step - loss: 0.6700 - accuracy: 0.7639 - val_loss: 0.8397 - val_accuracy: 0.7100\n",
            "Epoch 34/50\n",
            "188/188 [==============================] - 12s 65ms/step - loss: 0.6582 - accuracy: 0.7692 - val_loss: 0.8484 - val_accuracy: 0.7080\n",
            "Epoch 35/50\n",
            "188/188 [==============================] - 12s 64ms/step - loss: 0.6533 - accuracy: 0.7707 - val_loss: 0.8476 - val_accuracy: 0.7180\n",
            "Epoch 36/50\n",
            "188/188 [==============================] - 12s 64ms/step - loss: 0.6387 - accuracy: 0.7787 - val_loss: 0.8378 - val_accuracy: 0.7207\n",
            "Epoch 37/50\n",
            "188/188 [==============================] - 12s 64ms/step - loss: 0.6284 - accuracy: 0.7837 - val_loss: 0.8299 - val_accuracy: 0.7200\n",
            "Epoch 38/50\n",
            "188/188 [==============================] - 12s 65ms/step - loss: 0.5952 - accuracy: 0.7987 - val_loss: 0.8101 - val_accuracy: 0.7227\n",
            "Epoch 39/50\n",
            "188/188 [==============================] - 12s 64ms/step - loss: 0.5984 - accuracy: 0.7959 - val_loss: 0.8238 - val_accuracy: 0.7193\n",
            "Epoch 40/50\n",
            "188/188 [==============================] - 12s 64ms/step - loss: 0.5826 - accuracy: 0.7941 - val_loss: 0.8686 - val_accuracy: 0.7200\n",
            "Epoch 41/50\n",
            "188/188 [==============================] - 12s 65ms/step - loss: 0.5776 - accuracy: 0.7929 - val_loss: 0.8177 - val_accuracy: 0.7260\n",
            "Epoch 42/50\n",
            "188/188 [==============================] - 12s 65ms/step - loss: 0.5686 - accuracy: 0.8077 - val_loss: 0.8242 - val_accuracy: 0.7280\n",
            "Epoch 43/50\n",
            "188/188 [==============================] - 12s 64ms/step - loss: 0.5478 - accuracy: 0.8076 - val_loss: 0.7921 - val_accuracy: 0.7340\n",
            "Epoch 44/50\n",
            "188/188 [==============================] - 12s 64ms/step - loss: 0.5425 - accuracy: 0.8161 - val_loss: 0.7948 - val_accuracy: 0.7300\n",
            "Epoch 45/50\n",
            "188/188 [==============================] - 12s 65ms/step - loss: 0.5348 - accuracy: 0.8139 - val_loss: 0.8151 - val_accuracy: 0.7307\n",
            "Epoch 46/50\n",
            "188/188 [==============================] - 12s 65ms/step - loss: 0.5287 - accuracy: 0.8157 - val_loss: 0.8065 - val_accuracy: 0.7347\n",
            "Epoch 47/50\n",
            "188/188 [==============================] - 12s 65ms/step - loss: 0.5164 - accuracy: 0.8191 - val_loss: 0.7947 - val_accuracy: 0.7333\n",
            "Epoch 48/50\n",
            "188/188 [==============================] - 16s 86ms/step - loss: 0.5048 - accuracy: 0.8256 - val_loss: 0.7980 - val_accuracy: 0.7367\n",
            "Epoch 49/50\n",
            "188/188 [==============================] - 12s 64ms/step - loss: 0.4883 - accuracy: 0.8351 - val_loss: 0.7866 - val_accuracy: 0.7340\n",
            "Epoch 50/50\n",
            "188/188 [==============================] - 12s 64ms/step - loss: 0.4911 - accuracy: 0.8354 - val_loss: 0.7857 - val_accuracy: 0.7460\n"
          ]
        }
      ]
    },
    {
      "cell_type": "code",
      "metadata": {
        "colab": {
          "base_uri": "https://localhost:8080/",
          "height": 295
        },
        "id": "vxM6SekV7Vnk",
        "outputId": "90f23e8d-f0a6-411d-d0d2-a76401c38329"
      },
      "source": [
        "# plot accuracy and error as a function of the epochs\n",
        "plot_history(history)"
      ],
      "execution_count": null,
      "outputs": [
        {
          "output_type": "display_data",
          "data": {
            "image/png": "[encoded data removed]",
            "text/plain": [
              "<Figure size 432x288 with 2 Axes>"
            ]
          },
          "metadata": {
            "needs_background": "light"
          }
        }
      ]
    },
    {
      "cell_type": "code",
      "metadata": {
        "colab": {
          "base_uri": "https://localhost:8080/"
        },
        "id": "qhwhH7487XTM",
        "outputId": "b0da880c-8882-43cb-db3a-a75bcb67d93e"
      },
      "source": [
        "\n",
        "# evaluate model on Test Set\n",
        "test_loss, test_acc = model_cnn.evaluate(X_test, y_test, verbose=2)\n",
        "print('\\nTest accuracy:', test_acc)"
      ],
      "execution_count": null,
      "outputs": [
        {
          "output_type": "stream",
          "name": "stdout",
          "text": [
            "79/79 - 1s - loss: 0.7545 - accuracy: 0.7475\n",
            "\n",
            "Test accuracy: 0.7474989891052246\n"
          ]
        }
      ]
    },
    {
      "cell_type": "code",
      "metadata": {
        "colab": {
          "base_uri": "https://localhost:8080/"
        },
        "id": "y8BLsh7S7Ymc",
        "outputId": "df19f888-971f-4a6d-8767-fa90cb458f57"
      },
      "source": [
        "model_cnn.save(\"Music_Genre_10_CNN\")"
      ],
      "execution_count": null,
      "outputs": [
        {
          "output_type": "stream",
          "name": "stdout",
          "text": [
            "INFO:tensorflow:Assets written to: Music_Genre_10_CNN/assets\n"
          ]
        }
      ]
    },
    {
      "cell_type": "markdown",
      "metadata": {
        "id": "_NoMV7CbAJTc"
      },
      "source": [
        "Предсказания"
      ]
    },
    {
      "cell_type": "code",
      "metadata": {
        "id": "eKdnVuoaALFL"
      },
      "source": [
        "# pick a sample to predict from the test set\n",
        "X_to_predict = X_test[100]\n",
        "y_to_predict = y_test[100]"
      ],
      "execution_count": null,
      "outputs": []
    },
    {
      "cell_type": "code",
      "metadata": {
        "colab": {
          "base_uri": "https://localhost:8080/"
        },
        "id": "AgSKLpMDALbq",
        "outputId": "d2c94c7a-7208-4f1d-9d31-1fbfeb080e72"
      },
      "source": [
        "X_to_predict.shape"
      ],
      "execution_count": null,
      "outputs": [
        {
          "output_type": "execute_result",
          "data": {
            "text/plain": [
              "(130, 13, 1)"
            ]
          },
          "metadata": {},
          "execution_count": 30
        }
      ]
    },
    {
      "cell_type": "code",
      "metadata": {
        "colab": {
          "base_uri": "https://localhost:8080/"
        },
        "id": "eDj9Hw4oAMn8",
        "outputId": "585d2076-7572-4593-e985-9aaa9f0b2531"
      },
      "source": [
        "\n",
        "print(\"Real Genre:\", y_to_predict)"
      ],
      "execution_count": null,
      "outputs": [
        {
          "output_type": "stream",
          "name": "stdout",
          "text": [
            "Real Genre: 2\n"
          ]
        }
      ]
    },
    {
      "cell_type": "code",
      "metadata": {
        "id": "2U8yZUDSANqK"
      },
      "source": [
        "# add a dimension to input data for sample - model.predict() expects a 4d array in this case\n",
        "X_to_predict = X_to_predict[np.newaxis, ...] # array shape (1, 130, 13, 1)"
      ],
      "execution_count": null,
      "outputs": []
    },
    {
      "cell_type": "code",
      "metadata": {
        "colab": {
          "base_uri": "https://localhost:8080/"
        },
        "id": "10_p_3BYAPCL",
        "outputId": "eb48ccb0-ba44-4a5d-b4c4-21eedce58a48"
      },
      "source": [
        "X_to_predict.shape"
      ],
      "execution_count": null,
      "outputs": [
        {
          "output_type": "execute_result",
          "data": {
            "text/plain": [
              "(1, 130, 13, 1)"
            ]
          },
          "metadata": {},
          "execution_count": 33
        }
      ]
    },
    {
      "cell_type": "code",
      "metadata": {
        "id": "V_rthwbDAQIb"
      },
      "source": [
        "# perform prediction\n",
        "prediction = model_cnn.predict(X_to_predict)"
      ],
      "execution_count": null,
      "outputs": []
    },
    {
      "cell_type": "code",
      "metadata": {
        "colab": {
          "base_uri": "https://localhost:8080/"
        },
        "id": "5OZkI7HJARXr",
        "outputId": "289ce00b-8107-41ca-8b63-f81e2896c722"
      },
      "source": [
        "# get index with max value\n",
        "predicted_index = np.argmax(prediction, axis=1)\n",
        "\n",
        "print(\"Predicted Genre:\", int(predicted_index))"
      ],
      "execution_count": null,
      "outputs": [
        {
          "output_type": "stream",
          "name": "stdout",
          "text": [
            "Predicted Genre: 2\n"
          ]
        }
      ]
    },
    {
      "cell_type": "code",
      "metadata": {
        "colab": {
          "base_uri": "https://localhost:8080/"
        },
        "id": "5VQkdI1wASqT",
        "outputId": "62ed46a2-f73d-45c7-b6ed-243dc0cd8f5d"
      },
      "source": [
        "# pick a sample to predict from the test set\n",
        "X_to_predict = X_test[50]\n",
        "y_to_predict = y_test[50]\n",
        "\n",
        "print(\"Real Genre:\", y_to_predict)\n",
        "\n",
        "X_to_predict = X_to_predict[np.newaxis, ...]\n",
        "\n",
        "prediction = model_cnn.predict(X_to_predict)\n",
        "\n",
        "# get index with max value\n",
        "predicted_index = np.argmax(prediction, axis=1)\n",
        "\n",
        "print(\"Predicted Genre:\", int(predicted_index))"
      ],
      "execution_count": null,
      "outputs": [
        {
          "output_type": "stream",
          "name": "stdout",
          "text": [
            "Real Genre: 9\n",
            "Predicted Genre: 9\n"
          ]
        }
      ]
    },
    {
      "cell_type": "code",
      "metadata": {
        "colab": {
          "base_uri": "https://localhost:8080/"
        },
        "id": "iYdrLHsoAURj",
        "outputId": "6a221550-a5a1-4861-d682-c7cbfcc92028"
      },
      "source": [
        "len(X_test)"
      ],
      "execution_count": null,
      "outputs": [
        {
          "output_type": "execute_result",
          "data": {
            "text/plain": [
              "2499"
            ]
          },
          "metadata": {},
          "execution_count": 37
        }
      ]
    },
    {
      "cell_type": "code",
      "metadata": {
        "colab": {
          "base_uri": "https://localhost:8080/"
        },
        "id": "N4NVUgW6AVbP",
        "outputId": "48857ed9-64c6-4b36-b9a6-bf97ad350e28"
      },
      "source": [
        "for n in range(10):\n",
        "\n",
        "  i = random.randint(0,len(X_test))\n",
        "  # pick a sample to predict from the test set\n",
        "  X_to_predict = X_test[i]\n",
        "  y_to_predict = y_test[i]\n",
        "\n",
        "  print(\"\\nReal Genre:\", y_to_predict)\n",
        "\n",
        "  X_to_predict = X_to_predict[np.newaxis, ...]\n",
        "\n",
        "  prediction = model_cnn.predict(X_to_predict)\n",
        "\n",
        "  # get index with max value\n",
        "  predicted_index = np.argmax(prediction, axis=1)\n",
        "\n",
        "  print(\"Predicted Genre:\", int(predicted_index))"
      ],
      "execution_count": null,
      "outputs": [
        {
          "output_type": "stream",
          "name": "stdout",
          "text": [
            "\n",
            "Real Genre: 6\n",
            "Predicted Genre: 4\n",
            "\n",
            "Real Genre: 6\n",
            "Predicted Genre: 6\n",
            "\n",
            "Real Genre: 8\n",
            "Predicted Genre: 8\n",
            "\n",
            "Real Genre: 9\n",
            "Predicted Genre: 9\n",
            "\n",
            "Real Genre: 4\n",
            "Predicted Genre: 2\n",
            "\n",
            "Real Genre: 9\n",
            "Predicted Genre: 4\n",
            "\n",
            "Real Genre: 1\n",
            "Predicted Genre: 1\n",
            "\n",
            "Real Genre: 7\n",
            "Predicted Genre: 7\n",
            "\n",
            "Real Genre: 7\n",
            "Predicted Genre: 7\n",
            "\n",
            "Real Genre: 0\n",
            "Predicted Genre: 0\n"
          ]
        }
      ]
    },
    {
      "cell_type": "markdown",
      "metadata": {
        "id": "oyagMCdCAXhT"
      },
      "source": [
        "Предсказания для новой песни\n"
      ]
    },
    {
      "cell_type": "code",
      "metadata": {
        "id": "edQoXDHcAaEb"
      },
      "source": [
        "# Audio files pre-processing\n",
        "def process_input(audio_file, track_duration):\n",
        "\n",
        "  SAMPLE_RATE = 22050\n",
        "  NUM_MFCC = 13\n",
        "  N_FTT=2048\n",
        "  HOP_LENGTH=512\n",
        "  TRACK_DURATION = track_duration # measured in seconds\n",
        "  SAMPLES_PER_TRACK = SAMPLE_RATE * TRACK_DURATION\n",
        "  NUM_SEGMENTS = 10\n",
        "\n",
        "  samples_per_segment = int(SAMPLES_PER_TRACK / NUM_SEGMENTS)\n",
        "  num_mfcc_vectors_per_segment = math.ceil(samples_per_segment / HOP_LENGTH)\n",
        "\n",
        "  signal, sample_rate = librosa.load(audio_file, sr=SAMPLE_RATE)\n",
        "  \n",
        "  for d in range(10):\n",
        "\n",
        "    # calculate start and finish sample for current segment\n",
        "    start = samples_per_segment * d\n",
        "    finish = start + samples_per_segment\n",
        "\n",
        "    # extract mfcc\n",
        "    mfcc = librosa.feature.mfcc(signal[start:finish], sample_rate, n_mfcc=NUM_MFCC, n_fft=N_FTT, hop_length=HOP_LENGTH)\n",
        "    mfcc = mfcc.T\n",
        "\n",
        "    return mfcc"
      ],
      "execution_count": null,
      "outputs": []
    },
    {
      "cell_type": "code",
      "metadata": {
        "id": "yIv5oqSVAbWM"
      },
      "source": [
        "genre_dict = {0:\"jazz\",1:\"classical\",2:\"blues\",3:\"hiphop\",4:\"country\",5:\"pop\",6:\"rock\",7:\"metal\",8:\"disco\",9:\"reggae\"} "
      ],
      "execution_count": null,
      "outputs": []
    },
    {
      "cell_type": "code",
      "metadata": {
        "id": "BzC5uXjXAckU"
      },
      "source": [
        "new_input_mfcc = process_input(\"/content/drive/MyDrive/AI Project /classical.mp3\", 30)"
      ],
      "execution_count": null,
      "outputs": []
    },
    {
      "cell_type": "code",
      "metadata": {
        "colab": {
          "base_uri": "https://localhost:8080/"
        },
        "id": "d9-9hvPLAd2c",
        "outputId": "756dd116-8d21-4deb-a1cc-89f037edf374"
      },
      "source": [
        "type(new_input_mfcc)"
      ],
      "execution_count": null,
      "outputs": [
        {
          "output_type": "execute_result",
          "data": {
            "text/plain": [
              "numpy.ndarray"
            ]
          },
          "metadata": {},
          "execution_count": 48
        }
      ]
    },
    {
      "cell_type": "code",
      "metadata": {
        "colab": {
          "base_uri": "https://localhost:8080/"
        },
        "id": "G1A7ulb_Ae2M",
        "outputId": "91fb87fd-797d-4762-c617-c937771b7773"
      },
      "source": [
        "new_input_mfcc.shape"
      ],
      "execution_count": null,
      "outputs": [
        {
          "output_type": "execute_result",
          "data": {
            "text/plain": [
              "(130, 13)"
            ]
          },
          "metadata": {},
          "execution_count": 49
        }
      ]
    },
    {
      "cell_type": "code",
      "metadata": {
        "colab": {
          "base_uri": "https://localhost:8080/"
        },
        "id": "4OqBvyELAf1c",
        "outputId": "196ccd58-ad00-4e02-9c79-e735beb8a5d2"
      },
      "source": [
        "X_to_predict = new_input_mfcc[np.newaxis, ..., np.newaxis]\n",
        "X_to_predict.shape"
      ],
      "execution_count": null,
      "outputs": [
        {
          "output_type": "execute_result",
          "data": {
            "text/plain": [
              "(1, 130, 13, 1)"
            ]
          },
          "metadata": {},
          "execution_count": 50
        }
      ]
    },
    {
      "cell_type": "code",
      "metadata": {
        "colab": {
          "base_uri": "https://localhost:8080/"
        },
        "id": "T_7ckIJTAg8L",
        "outputId": "9526a817-4a2e-4404-b838-960290c06d85"
      },
      "source": [
        "prediction = model_cnn.predict(X_to_predict)\n",
        "\n",
        "# get index with max value\n",
        "predicted_index = np.argmax(prediction, axis=1)\n",
        "\n",
        "print(\"Predicted Genre:\", genre_dict[int(predicted_index)])"
      ],
      "execution_count": null,
      "outputs": [
        {
          "output_type": "stream",
          "name": "stdout",
          "text": [
            "Predicted Genre: hiphop\n"
          ]
        }
      ]
    },
    {
      "cell_type": "code",
      "metadata": {
        "id": "DUFaUNyWAisc"
      },
      "source": [
        "new_input_mfcc = process_input(\"/content/drive/MyDrive/AI Project /blues3.mp3\", 30)"
      ],
      "execution_count": null,
      "outputs": []
    },
    {
      "cell_type": "code",
      "metadata": {
        "colab": {
          "base_uri": "https://localhost:8080/"
        },
        "id": "jHZ0K5WEAkCr",
        "outputId": "cce81b61-c9f1-4b96-9c22-cfbc84fe625e"
      },
      "source": [
        "X_to_predict = new_input_mfcc[np.newaxis, ..., np.newaxis]\n",
        "X_to_predict.shape"
      ],
      "execution_count": null,
      "outputs": [
        {
          "output_type": "execute_result",
          "data": {
            "text/plain": [
              "(1, 130, 13, 1)"
            ]
          },
          "metadata": {},
          "execution_count": 53
        }
      ]
    },
    {
      "cell_type": "code",
      "metadata": {
        "colab": {
          "base_uri": "https://localhost:8080/"
        },
        "id": "-ceEkpB5AlDD",
        "outputId": "c4d80b6f-f463-4b4a-c6bb-acbb121c7e5a"
      },
      "source": [
        "prediction = model_cnn.predict(X_to_predict)\n",
        "\n",
        "# get index with max value\n",
        "predicted_index = np.argmax(prediction, axis=1)\n",
        "\n",
        "print(\"Predicted Genre:\", genre_dict[int(predicted_index)])"
      ],
      "execution_count": null,
      "outputs": [
        {
          "output_type": "stream",
          "name": "stdout",
          "text": [
            "Predicted Genre: blues\n"
          ]
        }
      ]
    }
  ]
}